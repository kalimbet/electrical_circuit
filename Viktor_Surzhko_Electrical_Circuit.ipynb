{
 "cells": [
  {
   "cell_type": "markdown",
   "metadata": {},
   "source": [
    "# Electrical circuit\n",
    "An electrical circuit is a path in which electrons from a voltage or current source flow.\n"
   ]
  },
  {
   "cell_type": "markdown",
   "metadata": {},
   "source": [
    "The point where those electrons enter an electrical circuit is called the \"source\" of electrons. The point where the electrons leave an electrical circuit is called the \"return\" or \"earth ground\". The exit point is called the \"return\" because electrons always end up at the source when they complete the path of an electrical circuit."
   ]
  },
  {
   "cell_type": "markdown",
   "metadata": {},
   "source": [
    "Electronic circuits usually use direct current sources. The load of an electronic circuit may be as simple as a few resistors, capacitors, and a lamp, all connected together to create the flash in a camera. Or an electronic circuit can be complicated, connecting thousands of resistors, capacitors, and transistors. It may be an integrated circuit such as the microprocessor in a computer."
   ]
  },
  {
   "cell_type": "markdown",
   "metadata": {},
   "source": [
    "**Kirchhoff's laws** are fundamental to circuit theory. They quantify how current flows through a circuit and how voltage varies around a loop in a circuit.\n",
    "\n",
    "**Kirchhoff's current law (1st Law)** states that current flowing into a node (or a junction) must be equal to current flowing out of it. This is a consequence of charge conservation.\n",
    "\n",
    "**Kirchhoff's voltage law (2nd Law)** states that the sum of all voltages around any closed loop in a circuit must equal zero. This is a consequence of charge conservation and also conservation of energy."
   ]
  },
  {
   "cell_type": "markdown",
   "metadata": {},
   "source": [
    "# Problem\n",
    "This circuit has the following data. And we must find the unknown:\n",
    "**i1; i2; i3; i4; i5**"
   ]
  },
  {
   "cell_type": "markdown",
   "metadata": {},
   "source": [
    "The algebraic sum of the changes in potential encountered in a complete traversal of a closed circuit loop must be zero."
   ]
  },
  {
   "cell_type": "markdown",
   "metadata": {},
   "source": [
    "<img src=\"1.png\" />"
   ]
  },
  {
   "cell_type": "markdown",
   "metadata": {},
   "source": []
  },
  {
   "cell_type": "markdown",
   "metadata": {},
   "source": [
    "We can represent following scheme like Linear equation system."
   ]
  },
  {
   "cell_type": "markdown",
   "metadata": {},
   "source": [
    "\\begin{bmatrix} \n",
    "   -V_1 & {}+{} &  R_1i_1 & {}+{} & R_2(i_1 - i_2) & {}={} & 0 \\\\\n",
    "    R_2(i_2-i_1) & {}+{} &  R_3i_2 & {}+{} &  R_4(i_2-i_3) & {}={} &  0 \\\\\n",
    "    R_4(i_3-i_2) & {}+{} & R_5i_3 & {}+{} & V_2 & {}={} & 0\n",
    "\\end{bmatrix}"
   ]
  },
  {
   "cell_type": "markdown",
   "metadata": {},
   "source": [
    "After our calculation we have next view."
   ]
  },
  {
   "cell_type": "markdown",
   "metadata": {},
   "source": [
    "\\begin{align}\n",
    "A &= \\begin{bmatrix}\n",
    "R_1 + R_2 & -R_2 & 0 \\\\\n",
    "-R_2 & R_2+R_3+R_4 & -R_4 \\\\\n",
    "0 & -R_4 & R_4+R_5\n",
    "\\end{bmatrix}\n",
    "\\end{align}"
   ]
  },
  {
   "cell_type": "markdown",
   "metadata": {},
   "source": [
    "\\begin{align}\n",
    "B &= \\begin{bmatrix}\n",
    "V_1 \\\\\n",
    "0 \\\\\n",
    "-V_2\n",
    "\\end{bmatrix}\n",
    "&\n",
    "X &= \\begin{bmatrix}\n",
    "i_1 \\\\\n",
    "i_2 \\\\\n",
    "i_3\n",
    "\\end{bmatrix}\n",
    "\\end{align}"
   ]
  },
  {
   "cell_type": "markdown",
   "metadata": {},
   "source": [
    "One way to find the unknowns is to use the matrix method to solve a system of linear equations.\n",
    "Where A = matrix of resistors and B = matrix of voltage.\n",
    "$$ X = A^{-1}B $$\n",
    " \n"
   ]
  },
  {
   "cell_type": "markdown",
   "metadata": {},
   "source": [
    "## Using the sympy library."
   ]
  },
  {
   "cell_type": "code",
   "execution_count": 59,
   "metadata": {},
   "outputs": [],
   "source": [
    "import numpy as np; import sympy as sym; import networkx as nx"
   ]
  },
  {
   "cell_type": "code",
   "execution_count": 69,
   "metadata": {},
   "outputs": [],
   "source": [
    "sym.init_printing()\n",
    "i1,i2,i3 = sym.symbols('I1,I2,I3')\n",
    "\n",
    "R1 = 3; R2 = 4; R3 = 5; R4= 2; R5 = 6;\n",
    "V1 = 2; V2 = 2;"
   ]
  },
  {
   "cell_type": "code",
   "execution_count": 70,
   "metadata": {},
   "outputs": [
    {
     "name": "stdout",
     "output_type": "stream",
     "text": [
      "Eq(7*I1 - 4*I2, 2)\n",
      "Eq(-4*I1 + 11*I2 - 2*I3, 0)\n",
      "Eq(-2*I2 + 8*I3, -2)\n"
     ]
    },
    {
     "data": {
      "image/png": "[encoded data removed]",
      "text/latex": [
       "$$\\left \\{ I_{1} : \\frac{38}{115}, \\quad I_{2} : \\frac{9}{115}, \\quad I_{3} : - \\frac{53}{230}\\right \\}$$"
      ],
      "text/plain": [
       "⎧     38                 -53 ⎫\n",
       "⎨I₁: ───, I₂: 9/115, I₃: ────⎬\n",
       "⎩    115                 230 ⎭"
      ]
     },
     "execution_count": 70,
     "metadata": {},
     "output_type": "execute_result"
    }
   ],
   "source": [
    "f = sym.Eq(R1 * i1 + R2 *(i1 - i2), V1)\n",
    "g = sym.Eq(R2 * (i2 - i1) + R3 * i2 + R4 * (i2 - i3), 0)\n",
    "h = sym.Eq(R4 * (i3 - i2) + R5 * i3, -V2)\n",
    "\n",
    "print(f); print(g); print(h)\n",
    "\n",
    "sym.solve([f,g,h])"
   ]
  },
  {
   "cell_type": "markdown",
   "metadata": {},
   "source": [
    "## Using the numpy library."
   ]
  },
  {
   "cell_type": "code",
   "execution_count": 62,
   "metadata": {},
   "outputs": [
    {
     "name": "stdout",
     "output_type": "stream",
     "text": [
      "Matrix A\n",
      "[[ 7 -4  0]\n",
      " [-4 11 -2]\n",
      " [ 0 -2  8]]\n",
      "____________\n",
      "Matrix B\n",
      "[ 2  0 -2]\n",
      "____________\n",
      "det A =  460.0\n",
      "____________\n",
      "A inverse matrix = \n",
      "[[0.1826087  0.06956522 0.0173913 ]\n",
      " [0.06956522 0.12173913 0.03043478]\n",
      " [0.0173913  0.03043478 0.1326087 ]]\n",
      "____________\n",
      "Answer:  i1 =  0.33043478260869563 ; i2 =  0.07826086956521738 ; i3 =  -0.23043478260869563 ;\n"
     ]
    }
   ],
   "source": [
    "x1 = R1 + R2; x2 = R2 + R3 + R4; x3 = R4 + R5; z = 0\n",
    "A = np.array([ [x1,-R2,z], [-R2, x2,-R4], [z,-R4,x3] ])\n",
    "B = np.array([V1,z,-V2])\n",
    "\n",
    "print('Matrix A'); print(A); print('____________')\n",
    "print('Matrix B'); print(B); print('____________')\n",
    "\n",
    "det_A = round(np.linalg.det(A), 3); print('det A = ', det_A); print('____________')\n",
    "\n",
    "A_inv = np.linalg.inv(A); print('A inverse matrix = '); print(A_inv); print('____________')\n",
    "\n",
    "result = A_inv.dot(B); print('Answer: ', 'i1 = ', result[0], ';', 'i2 = ', result[1],';', 'i3 = ', result[2],';')\n",
    "\n",
    "i1 = result[0]; i2 = result[1]; i3 = result[2]"
   ]
  },
  {
   "cell_type": "markdown",
   "metadata": {},
   "source": [
    "Now we can find next two unknowns:\n",
    "\n",
    "$$i_3 = i_1 - i_2$$\n",
    "$$i_5 = i_2 - i_4$$"
   ]
  },
  {
   "cell_type": "markdown",
   "metadata": {},
   "source": [
    "Now we round up our results for a more compact look."
   ]
  },
  {
   "cell_type": "code",
   "execution_count": 67,
   "metadata": {},
   "outputs": [
    {
     "name": "stdout",
     "output_type": "stream",
     "text": [
      "Answer: \n",
      "i1 = 0.33 i2 = 0.078 i3 = 0.252 i4 = -0.23 i5 = 0.308\n"
     ]
    }
   ],
   "source": [
    "I1 = round(i1, 3); I2 = round(i2, 3); I3 = round(I1-I2, 3); I4 = round(i3, 3); I5 = round(I2 - I4, 3)\n",
    "print('Answer: '); print('i1 =', I1, 'i2 =', I2, 'i3 =', I3, 'i4 =', I4, 'i5 =', I5)"
   ]
  },
  {
   "cell_type": "markdown",
   "metadata": {},
   "source": [
    "# Graph representations of schema"
   ]
  },
  {
   "cell_type": "code",
   "execution_count": 55,
   "metadata": {},
   "outputs": [],
   "source": [
    "positions = {'V1+':(5,1), 'V1-':(5,-1), 'E' :(5,3), 'A' :(15,3), 'D' :(15,-3), 'K' :(5,-3), 'B' :(25,3), 'C':(25,-3), \n",
    "             'F' :(35,3), 'L' :(35,-3), 'V2+':(35,1),  'V2-':(35,-1), }\n",
    "\n",
    "\n",
    "node_links = {('V1+', 'E'): I1, ('E', 'A'): I1, ('A', 'D'): I3, ('A', 'B'): I2, ('D', 'K'): I1, ('K', 'V1-'): I1,\n",
    "              ('B', 'F'): I4,  ('C', 'B'): I5, ('C', 'D'): I2,  ('L', 'C'): I4, ('F', 'V2+'): I4,  ('V2-', 'L'): I4,}\n"
   ]
  },
  {
   "cell_type": "code",
   "execution_count": 65,
   "metadata": {},
   "outputs": [
    {
     "name": "stdout",
     "output_type": "stream",
     "text": [
      "____________\n",
      "Shortest path for V1 =  ['V1+', 'E', 'A', 'D', 'K', 'V1-']\n",
      "Shortest path for V2 =  ['V2-', 'L', 'C', 'B', 'F', 'V2+']\n",
      "____________\n",
      "Edges:  12\n",
      "____________\n",
      "Node A has the following properties:\n",
      "Degree: 3\n",
      "Neighbors: D B\n",
      "____________\n",
      "Node B has the following properties:\n",
      "Degree: 3\n",
      "Neighbors: F\n",
      "____________\n",
      "Node C has the following properties:\n",
      "Degree: 3\n",
      "Neighbors: B D\n",
      "____________\n",
      "Node D has the following properties:\n",
      "Degree: 3\n",
      "Neighbors: K\n",
      "____________\n"
     ]
    },
    {
     "data": {
      "image/png": "[encoded data removed]",
      "text/plain": [
       "<Figure size 432x288 with 1 Axes>"
      ]
     },
     "metadata": {},
     "output_type": "display_data"
    }
   ],
   "source": [
    "G2 = nx.DiGraph(); G2.add_nodes_from(positions); G2.add_edges_from(node_links); G2.out_degree()\n",
    "shortest_path_v1 = nx.dijkstra_path(G2,'V1+', 'V1-')\n",
    "shortest_path_v2 = nx.dijkstra_path(G2,'V2-', 'V2+')\n",
    "print('____________')\n",
    "print('Shortest path for V1 = ', shortest_path_v1); print('Shortest path for V2 = ', shortest_path_v2)\n",
    "print('____________')\n",
    "edges = nx.number_of_edges(G2); print('Edges: ', edges); print('____________')\n",
    "info_A = nx.info(G2,'A'); info_B = nx.info(G2,'B'); info_C = nx.info(G2,'C'); info_D = nx.info(G2,'D')\n",
    "print(info_A); print('____________')\n",
    "print(info_B); print('____________')\n",
    "print(info_C); print('____________')\n",
    "print(info_D); print('____________')\n",
    "\n",
    "\n",
    "nx.draw(G2, positions, node_color = 'C1', node_shape = 'o', node_size = 1000, with_labels = True)\n",
    "nx.draw_networkx_edge_labels(G2, positions, edge_labels = node_links);"
   ]
  },
  {
   "cell_type": "markdown",
   "metadata": {},
   "source": [
    "As we can see, we have the following correct result for this equation:\n",
    "$$i_1 - i_2 - i_3 = 0$$\n",
    "$$i_2 - i_4 - i_5 = 0$$\n",
    "\n",
    "#### Notation!\n",
    "Here we have only 4 nodes **(A,B,C,D)**, and 4 branches **(E, F, L, K)**"
   ]
  },
  {
   "cell_type": "markdown",
   "metadata": {},
   "source": [
    "### Now we can change the direction of the current to find out if our calculations are correct."
   ]
  },
  {
   "cell_type": "code",
   "execution_count": 66,
   "metadata": {},
   "outputs": [
    {
     "name": "stdout",
     "output_type": "stream",
     "text": [
      "____________\n",
      "Shortest path for V1 =  ['V1-', 'K', 'D', 'A', 'E', 'V1+']\n",
      "Shortest path for V2 =  ['V2+', 'F', 'B', 'C', 'L', 'V2-']\n",
      "____________\n",
      "Edges:  12\n",
      "____________\n",
      "Node A has the following properties:\n",
      "Degree: 3\n",
      "Neighbors: E\n",
      "____________\n",
      "Node B has the following properties:\n",
      "Degree: 3\n",
      "Neighbors: A C\n",
      "____________\n",
      "Node C has the following properties:\n",
      "Degree: 3\n",
      "Neighbors: L\n",
      "____________\n",
      "Node D has the following properties:\n",
      "Degree: 3\n",
      "Neighbors: A C\n",
      "____________\n"
     ]
    },
    {
     "data": {
      "image/png": "[encoded data removed]",
      "text/plain": [
       "<Figure size 432x288 with 1 Axes>"
      ]
     },
     "metadata": {},
     "output_type": "display_data"
    }
   ],
   "source": [
    "G3 = nx.reverse_view(G2)\n",
    "nx.draw(G3, positions, node_color = 'C2', node_shape = 'o', node_size = 1000, with_labels = True)\n",
    "nx.draw_networkx_edge_labels(G3, positions, edge_labels = node_links);\n",
    "shortest_path_v1 = nx.dijkstra_path(G3,'V1-', 'V1+')\n",
    "shortest_path_v2 = nx.dijkstra_path(G3,'V2+', 'V2-')\n",
    "print('____________')\n",
    "print('Shortest path for V1 = ', shortest_path_v1); print('Shortest path for V2 = ', shortest_path_v2)\n",
    "print('____________')\n",
    "edges = nx.number_of_edges(G2); print('Edges: ', edges); print('____________')\n",
    "info_A = nx.info(G3,'A'); info_B = nx.info(G3,'B'); info_C = nx.info(G3,'C'); info_D = nx.info(G3,'D')\n",
    "print(info_A); print('____________')\n",
    "print(info_B); print('____________')\n",
    "print(info_C); print('____________')\n",
    "print(info_D); print('____________')"
   ]
  },
  {
   "cell_type": "markdown",
   "metadata": {},
   "source": [
    "# Sources"
   ]
  },
  {
   "cell_type": "markdown",
   "metadata": {},
   "source": [
    "1. https://simple.wikipedia.org/wiki/Electrical_circuit\n",
    "2. https://networkx.github.io/documentation/stable/index.html\n",
    "3. http://scask.ru/r_book_grnet.php?id=93"
   ]
  },
  {
   "cell_type": "code",
   "execution_count": null,
   "metadata": {},
   "outputs": [],
   "source": []
  }
 ],
 "metadata": {
  "kernelspec": {
   "display_name": "Python 3",
   "language": "python",
   "name": "python3"
  },
  "language_info": {
   "codemirror_mode": {
    "name": "ipython",
    "version": 3
   },
   "file_extension": ".py",
   "mimetype": "text/x-python",
   "name": "python",
   "nbconvert_exporter": "python",
   "pygments_lexer": "ipython3",
   "version": "3.7.1"
  }
 },
 "nbformat": 4,
 "nbformat_minor": 2
}
